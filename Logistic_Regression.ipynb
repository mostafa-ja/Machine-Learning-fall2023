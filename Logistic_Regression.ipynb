{
  "cells": [
    {
      "cell_type": "markdown",
      "metadata": {
        "id": "view-in-github",
        "colab_type": "text"
      },
      "source": [
        "<a href=\"https://colab.research.google.com/github/mostafa-ja/Machine-Learning-fall2023/blob/main/Logistic_Regression.ipynb\" target=\"_parent\"><img src=\"https://colab.research.google.com/assets/colab-badge.svg\" alt=\"Open In Colab\"/></a>"
      ]
    },
    {
      "cell_type": "markdown",
      "metadata": {
        "id": "UdtGQFxlc0Uy"
      },
      "source": [
        "## Answer these questions about Classificaton\n",
        "1. Why would you want to use: <br />\n",
        "a. Ridge regression instead of plain linear regression (i.e., without any\n",
        "regularization)?<br />\n",
        "b. Lasso instead of ridge regression?<br />\n",
        "c. Elastic net instead of lasso regression?\n",
        "\n",
        "• Ridge regression is preferred over plain linear regression when dealing with overfitting issues or datasets with high-dimensional features. It balances the tradeoff between bias and variance, leading to more stable and generalized models.\n",
        "\n",
        "• Lasso Regression uses an ℓ1 penalty, which tends to push the weights down to exactly zero. This leads to sparse models, where all weights are zero except for the most important weights. This is a way to perform feature selection automatically, which is good if you suspect that only a few features actually matter. When you are not sure, you should prefer Ridge Regression.\n",
        "\n",
        "• Elastic Net is generally preferred over Lasso since Lasso may behave erratically in some cases (when several features are strongly correlated or when there are more features than training instances). However, it does add an extra hyperparameter to tune. If you just want Lasso without the erratic behavior, you can just use Elastic Net with an l1_ratio close to 1.\n",
        "\n",
        "\n",
        "\n",
        "2. Suppose you want to classify pictures as outdoor/indoor and\n",
        "daytime/nighttime. Should you implement two logistic regression\n",
        "classifiers or one softmax regression classifier?\n",
        "\n",
        "If you want to classify pictures as outdoor/indoor and daytime/nighttime, since these are not exclusive classes (i.e., all four combinations are possible) you should train two Logistic Regression classifiers."
      ],
      "id": "UdtGQFxlc0Uy"
    },
    {
      "cell_type": "code",
      "execution_count": 1,
      "id": "subject-vector",
      "metadata": {
        "id": "subject-vector"
      },
      "outputs": [],
      "source": [
        "# lets import the essential packages we need\n",
        "import pandas as pd\n",
        "import numpy as np\n",
        "import matplotlib.pyplot as plt"
      ]
    },
    {
      "cell_type": "markdown",
      "id": "rational-guidance",
      "metadata": {
        "id": "rational-guidance"
      },
      "source": [
        "# 1. Sign Language Classification\n",
        "\n",
        "The American Sign Language MNIST Dataset we are going to use is obtained from [Kaggle](https://www.kaggle.com/datamunge/sign-language-mnist). This dataset is much like the original MNIST dataset. Each training and test case consists of a numerical label (0–25) with a one-to-one correspondence to the English alphabet (0 corresponds to A) and a grayscale 28x28 pixel image with values ranging from 0–255. However, there is no label correspondence to the letter J (9) and Z (25) due to the motion required to symbolize those letters. The number of testing and training cases in this dataset are much lower compared to the orginal MNIST dataset since there are only 27,455 training cases and 7,172 tests cases in this dataset.\n",
        "\n",
        "<img src=\"/content/datasets/sign-dataset/american_sign_language.PNG\" width=700 height=700 />\n",
        "\n",
        "In this problem we are going to implement a simple multi-class classification model to classify each image to its desired label. For downloading the dataset, use this [link](https://www.kaggle.com/datamunge/sign-language-mnist).\n",
        "\n",
        "**Note:** You may need to create a new account in Kaggle if you have not registered yet. Then put the downloaded directory in the `dataset/` folder with the name of : `sign-dataset/`"
      ]
    },
    {
      "cell_type": "code",
      "source": [
        "#import kaggle.json\n",
        "import gdown\n",
        "download_link = 'https://drive.google.com/uc?id=18bN4Mot3QMrtnaU-DWEcxVYuH3b9Un3Q'\n",
        "output_filepath = '/content/'\n",
        "gdown.download(download_link, output_filepath)"
      ],
      "metadata": {
        "colab": {
          "base_uri": "https://localhost:8080/",
          "height": 105
        },
        "id": "wEoyUDxENYXf",
        "outputId": "34177f9c-32e0-4399-a4eb-a3dbcc5cc045"
      },
      "id": "wEoyUDxENYXf",
      "execution_count": 2,
      "outputs": [
        {
          "output_type": "stream",
          "name": "stderr",
          "text": [
            "Downloading...\n",
            "From: https://drive.google.com/uc?id=18bN4Mot3QMrtnaU-DWEcxVYuH3b9Un3Q\n",
            "To: /content/kaggle.json\n",
            "100%|██████████| 69.0/69.0 [00:00<00:00, 151kB/s]\n"
          ]
        },
        {
          "output_type": "execute_result",
          "data": {
            "text/plain": [
              "'/content/kaggle.json'"
            ],
            "application/vnd.google.colaboratory.intrinsic+json": {
              "type": "string"
            }
          },
          "metadata": {},
          "execution_count": 2
        }
      ]
    },
    {
      "cell_type": "code",
      "source": [
        "#upload data from kaggle website\n",
        "\n",
        "# Install Kaggle API.\n",
        "!pip install kaggle\n",
        "# Run the following code to configure the path to “kaggle.json”\n",
        "import os\n",
        "os.environ['KAGGLE_CONFIG_DIR'] = \"/content\"\n",
        "#download the dataset\n",
        "!kaggle datasets download -d datamunge/sign-language-mnist\n",
        "#unzip the dataset\n",
        "!mkdir -p /content/datasets/sign-dataset/\n",
        "!unzip '/content/sign-language-mnist.zip' -d \"/content/datasets/sign-dataset/\""
      ],
      "metadata": {
        "colab": {
          "base_uri": "https://localhost:8080/"
        },
        "id": "rU0j2xBnKbdz",
        "outputId": "e297c43a-7b01-42d5-8567-facde0012762"
      },
      "id": "rU0j2xBnKbdz",
      "execution_count": 3,
      "outputs": [
        {
          "output_type": "stream",
          "name": "stdout",
          "text": [
            "Requirement already satisfied: kaggle in /usr/local/lib/python3.10/dist-packages (1.5.16)\n",
            "Requirement already satisfied: six>=1.10 in /usr/local/lib/python3.10/dist-packages (from kaggle) (1.16.0)\n",
            "Requirement already satisfied: certifi in /usr/local/lib/python3.10/dist-packages (from kaggle) (2023.7.22)\n",
            "Requirement already satisfied: python-dateutil in /usr/local/lib/python3.10/dist-packages (from kaggle) (2.8.2)\n",
            "Requirement already satisfied: requests in /usr/local/lib/python3.10/dist-packages (from kaggle) (2.31.0)\n",
            "Requirement already satisfied: tqdm in /usr/local/lib/python3.10/dist-packages (from kaggle) (4.66.1)\n",
            "Requirement already satisfied: python-slugify in /usr/local/lib/python3.10/dist-packages (from kaggle) (8.0.1)\n",
            "Requirement already satisfied: urllib3 in /usr/local/lib/python3.10/dist-packages (from kaggle) (2.0.7)\n",
            "Requirement already satisfied: bleach in /usr/local/lib/python3.10/dist-packages (from kaggle) (6.1.0)\n",
            "Requirement already satisfied: webencodings in /usr/local/lib/python3.10/dist-packages (from bleach->kaggle) (0.5.1)\n",
            "Requirement already satisfied: text-unidecode>=1.3 in /usr/local/lib/python3.10/dist-packages (from python-slugify->kaggle) (1.3)\n",
            "Requirement already satisfied: charset-normalizer<4,>=2 in /usr/local/lib/python3.10/dist-packages (from requests->kaggle) (3.3.2)\n",
            "Requirement already satisfied: idna<4,>=2.5 in /usr/local/lib/python3.10/dist-packages (from requests->kaggle) (3.4)\n",
            "Warning: Your Kaggle API key is readable by other users on this system! To fix this, you can run 'chmod 600 /content/kaggle.json'\n",
            "Downloading sign-language-mnist.zip to /content\n",
            " 88% 55.0M/62.6M [00:00<00:00, 155MB/s]\n",
            "100% 62.6M/62.6M [00:00<00:00, 146MB/s]\n",
            "Archive:  /content/sign-language-mnist.zip\n",
            "  inflating: /content/datasets/sign-dataset/amer_sign2.png  \n",
            "  inflating: /content/datasets/sign-dataset/amer_sign3.png  \n",
            "  inflating: /content/datasets/sign-dataset/american_sign_language.PNG  \n",
            "  inflating: /content/datasets/sign-dataset/sign_mnist_test.csv  \n",
            "  inflating: /content/datasets/sign-dataset/sign_mnist_test/sign_mnist_test.csv  \n",
            "  inflating: /content/datasets/sign-dataset/sign_mnist_train.csv  \n",
            "  inflating: /content/datasets/sign-dataset/sign_mnist_train/sign_mnist_train.csv  \n"
          ]
        }
      ]
    },
    {
      "cell_type": "code",
      "execution_count": 4,
      "id": "substantial-forum",
      "metadata": {
        "id": "substantial-forum"
      },
      "outputs": [],
      "source": [
        "import os\n",
        "import string\n",
        "\n",
        "train_dataset = pd.read_csv('/content/datasets/sign-dataset/sign_mnist_train/sign_mnist_train.csv')\n",
        "test_dataset = pd.read_csv('/content/datasets/sign-dataset/sign_mnist_test/sign_mnist_test.csv')\n",
        "num_rows = train_dataset.shape[0]\n",
        "# To map each label number to its corresponding letter\n",
        "letters = dict(enumerate(string.ascii_uppercase))"
      ]
    },
    {
      "cell_type": "code",
      "source": [
        "letters"
      ],
      "metadata": {
        "colab": {
          "base_uri": "https://localhost:8080/"
        },
        "id": "Bc-RHhJ_OQpo",
        "outputId": "45220a17-36f4-4668-ac53-49410b527dae"
      },
      "id": "Bc-RHhJ_OQpo",
      "execution_count": 5,
      "outputs": [
        {
          "output_type": "execute_result",
          "data": {
            "text/plain": [
              "{0: 'A',\n",
              " 1: 'B',\n",
              " 2: 'C',\n",
              " 3: 'D',\n",
              " 4: 'E',\n",
              " 5: 'F',\n",
              " 6: 'G',\n",
              " 7: 'H',\n",
              " 8: 'I',\n",
              " 9: 'J',\n",
              " 10: 'K',\n",
              " 11: 'L',\n",
              " 12: 'M',\n",
              " 13: 'N',\n",
              " 14: 'O',\n",
              " 15: 'P',\n",
              " 16: 'Q',\n",
              " 17: 'R',\n",
              " 18: 'S',\n",
              " 19: 'T',\n",
              " 20: 'U',\n",
              " 21: 'V',\n",
              " 22: 'W',\n",
              " 23: 'X',\n",
              " 24: 'Y',\n",
              " 25: 'Z'}"
            ]
          },
          "metadata": {},
          "execution_count": 5
        }
      ]
    },
    {
      "cell_type": "code",
      "source": [
        "num_rows"
      ],
      "metadata": {
        "colab": {
          "base_uri": "https://localhost:8080/"
        },
        "id": "mfULIGg4ORKl",
        "outputId": "9ca3bfde-66ba-42cb-b9ca-b62f4c3786bc"
      },
      "id": "mfULIGg4ORKl",
      "execution_count": 6,
      "outputs": [
        {
          "output_type": "execute_result",
          "data": {
            "text/plain": [
              "27455"
            ]
          },
          "metadata": {},
          "execution_count": 6
        }
      ]
    },
    {
      "cell_type": "markdown",
      "id": "plain-crack",
      "metadata": {
        "id": "plain-crack"
      },
      "source": [
        "Now it is the time foe data exploration! The first few rows of the training datast are shown below:"
      ]
    },
    {
      "cell_type": "code",
      "execution_count": null,
      "id": "gorgeous-buffer",
      "metadata": {
        "id": "gorgeous-buffer",
        "outputId": "e2fc3d4e-f6a7-4030-887c-e6b772da5db1"
      },
      "outputs": [
        {
          "data": {
            "text/html": [
              "<div>\n",
              "<style scoped>\n",
              "    .dataframe tbody tr th:only-of-type {\n",
              "        vertical-align: middle;\n",
              "    }\n",
              "\n",
              "    .dataframe tbody tr th {\n",
              "        vertical-align: top;\n",
              "    }\n",
              "\n",
              "    .dataframe thead th {\n",
              "        text-align: right;\n",
              "    }\n",
              "</style>\n",
              "<table border=\"1\" class=\"dataframe\">\n",
              "  <thead>\n",
              "    <tr style=\"text-align: right;\">\n",
              "      <th></th>\n",
              "      <th>label</th>\n",
              "      <th>pixel1</th>\n",
              "      <th>pixel2</th>\n",
              "      <th>pixel3</th>\n",
              "      <th>pixel4</th>\n",
              "      <th>pixel5</th>\n",
              "      <th>pixel6</th>\n",
              "      <th>pixel7</th>\n",
              "      <th>pixel8</th>\n",
              "      <th>pixel9</th>\n",
              "      <th>...</th>\n",
              "      <th>pixel775</th>\n",
              "      <th>pixel776</th>\n",
              "      <th>pixel777</th>\n",
              "      <th>pixel778</th>\n",
              "      <th>pixel779</th>\n",
              "      <th>pixel780</th>\n",
              "      <th>pixel781</th>\n",
              "      <th>pixel782</th>\n",
              "      <th>pixel783</th>\n",
              "      <th>pixel784</th>\n",
              "    </tr>\n",
              "  </thead>\n",
              "  <tbody>\n",
              "    <tr>\n",
              "      <th>0</th>\n",
              "      <td>3</td>\n",
              "      <td>107</td>\n",
              "      <td>118</td>\n",
              "      <td>127</td>\n",
              "      <td>134</td>\n",
              "      <td>139</td>\n",
              "      <td>143</td>\n",
              "      <td>146</td>\n",
              "      <td>150</td>\n",
              "      <td>153</td>\n",
              "      <td>...</td>\n",
              "      <td>207</td>\n",
              "      <td>207</td>\n",
              "      <td>207</td>\n",
              "      <td>207</td>\n",
              "      <td>206</td>\n",
              "      <td>206</td>\n",
              "      <td>206</td>\n",
              "      <td>204</td>\n",
              "      <td>203</td>\n",
              "      <td>202</td>\n",
              "    </tr>\n",
              "    <tr>\n",
              "      <th>1</th>\n",
              "      <td>6</td>\n",
              "      <td>155</td>\n",
              "      <td>157</td>\n",
              "      <td>156</td>\n",
              "      <td>156</td>\n",
              "      <td>156</td>\n",
              "      <td>157</td>\n",
              "      <td>156</td>\n",
              "      <td>158</td>\n",
              "      <td>158</td>\n",
              "      <td>...</td>\n",
              "      <td>69</td>\n",
              "      <td>149</td>\n",
              "      <td>128</td>\n",
              "      <td>87</td>\n",
              "      <td>94</td>\n",
              "      <td>163</td>\n",
              "      <td>175</td>\n",
              "      <td>103</td>\n",
              "      <td>135</td>\n",
              "      <td>149</td>\n",
              "    </tr>\n",
              "    <tr>\n",
              "      <th>2</th>\n",
              "      <td>2</td>\n",
              "      <td>187</td>\n",
              "      <td>188</td>\n",
              "      <td>188</td>\n",
              "      <td>187</td>\n",
              "      <td>187</td>\n",
              "      <td>186</td>\n",
              "      <td>187</td>\n",
              "      <td>188</td>\n",
              "      <td>187</td>\n",
              "      <td>...</td>\n",
              "      <td>202</td>\n",
              "      <td>201</td>\n",
              "      <td>200</td>\n",
              "      <td>199</td>\n",
              "      <td>198</td>\n",
              "      <td>199</td>\n",
              "      <td>198</td>\n",
              "      <td>195</td>\n",
              "      <td>194</td>\n",
              "      <td>195</td>\n",
              "    </tr>\n",
              "    <tr>\n",
              "      <th>3</th>\n",
              "      <td>2</td>\n",
              "      <td>211</td>\n",
              "      <td>211</td>\n",
              "      <td>212</td>\n",
              "      <td>212</td>\n",
              "      <td>211</td>\n",
              "      <td>210</td>\n",
              "      <td>211</td>\n",
              "      <td>210</td>\n",
              "      <td>210</td>\n",
              "      <td>...</td>\n",
              "      <td>235</td>\n",
              "      <td>234</td>\n",
              "      <td>233</td>\n",
              "      <td>231</td>\n",
              "      <td>230</td>\n",
              "      <td>226</td>\n",
              "      <td>225</td>\n",
              "      <td>222</td>\n",
              "      <td>229</td>\n",
              "      <td>163</td>\n",
              "    </tr>\n",
              "    <tr>\n",
              "      <th>4</th>\n",
              "      <td>13</td>\n",
              "      <td>164</td>\n",
              "      <td>167</td>\n",
              "      <td>170</td>\n",
              "      <td>172</td>\n",
              "      <td>176</td>\n",
              "      <td>179</td>\n",
              "      <td>180</td>\n",
              "      <td>184</td>\n",
              "      <td>185</td>\n",
              "      <td>...</td>\n",
              "      <td>92</td>\n",
              "      <td>105</td>\n",
              "      <td>105</td>\n",
              "      <td>108</td>\n",
              "      <td>133</td>\n",
              "      <td>163</td>\n",
              "      <td>157</td>\n",
              "      <td>163</td>\n",
              "      <td>164</td>\n",
              "      <td>179</td>\n",
              "    </tr>\n",
              "    <tr>\n",
              "      <th>5</th>\n",
              "      <td>16</td>\n",
              "      <td>161</td>\n",
              "      <td>168</td>\n",
              "      <td>172</td>\n",
              "      <td>173</td>\n",
              "      <td>178</td>\n",
              "      <td>184</td>\n",
              "      <td>189</td>\n",
              "      <td>193</td>\n",
              "      <td>196</td>\n",
              "      <td>...</td>\n",
              "      <td>76</td>\n",
              "      <td>74</td>\n",
              "      <td>68</td>\n",
              "      <td>62</td>\n",
              "      <td>53</td>\n",
              "      <td>55</td>\n",
              "      <td>48</td>\n",
              "      <td>238</td>\n",
              "      <td>255</td>\n",
              "      <td>255</td>\n",
              "    </tr>\n",
              "    <tr>\n",
              "      <th>6</th>\n",
              "      <td>8</td>\n",
              "      <td>134</td>\n",
              "      <td>134</td>\n",
              "      <td>135</td>\n",
              "      <td>135</td>\n",
              "      <td>136</td>\n",
              "      <td>137</td>\n",
              "      <td>137</td>\n",
              "      <td>138</td>\n",
              "      <td>138</td>\n",
              "      <td>...</td>\n",
              "      <td>109</td>\n",
              "      <td>102</td>\n",
              "      <td>91</td>\n",
              "      <td>65</td>\n",
              "      <td>138</td>\n",
              "      <td>189</td>\n",
              "      <td>179</td>\n",
              "      <td>181</td>\n",
              "      <td>181</td>\n",
              "      <td>179</td>\n",
              "    </tr>\n",
              "    <tr>\n",
              "      <th>7</th>\n",
              "      <td>22</td>\n",
              "      <td>114</td>\n",
              "      <td>42</td>\n",
              "      <td>74</td>\n",
              "      <td>99</td>\n",
              "      <td>104</td>\n",
              "      <td>109</td>\n",
              "      <td>117</td>\n",
              "      <td>127</td>\n",
              "      <td>142</td>\n",
              "      <td>...</td>\n",
              "      <td>214</td>\n",
              "      <td>218</td>\n",
              "      <td>220</td>\n",
              "      <td>223</td>\n",
              "      <td>223</td>\n",
              "      <td>225</td>\n",
              "      <td>227</td>\n",
              "      <td>227</td>\n",
              "      <td>228</td>\n",
              "      <td>228</td>\n",
              "    </tr>\n",
              "    <tr>\n",
              "      <th>8</th>\n",
              "      <td>3</td>\n",
              "      <td>169</td>\n",
              "      <td>174</td>\n",
              "      <td>176</td>\n",
              "      <td>180</td>\n",
              "      <td>183</td>\n",
              "      <td>185</td>\n",
              "      <td>187</td>\n",
              "      <td>188</td>\n",
              "      <td>190</td>\n",
              "      <td>...</td>\n",
              "      <td>119</td>\n",
              "      <td>118</td>\n",
              "      <td>123</td>\n",
              "      <td>120</td>\n",
              "      <td>118</td>\n",
              "      <td>114</td>\n",
              "      <td>94</td>\n",
              "      <td>74</td>\n",
              "      <td>61</td>\n",
              "      <td>57</td>\n",
              "    </tr>\n",
              "    <tr>\n",
              "      <th>9</th>\n",
              "      <td>3</td>\n",
              "      <td>189</td>\n",
              "      <td>189</td>\n",
              "      <td>189</td>\n",
              "      <td>190</td>\n",
              "      <td>190</td>\n",
              "      <td>191</td>\n",
              "      <td>190</td>\n",
              "      <td>190</td>\n",
              "      <td>190</td>\n",
              "      <td>...</td>\n",
              "      <td>13</td>\n",
              "      <td>53</td>\n",
              "      <td>200</td>\n",
              "      <td>204</td>\n",
              "      <td>201</td>\n",
              "      <td>201</td>\n",
              "      <td>193</td>\n",
              "      <td>175</td>\n",
              "      <td>178</td>\n",
              "      <td>156</td>\n",
              "    </tr>\n",
              "  </tbody>\n",
              "</table>\n",
              "<p>10 rows × 785 columns</p>\n",
              "</div>"
            ],
            "text/plain": [
              "   label  pixel1  pixel2  pixel3  pixel4  pixel5  pixel6  pixel7  pixel8  \\\n",
              "0      3     107     118     127     134     139     143     146     150   \n",
              "1      6     155     157     156     156     156     157     156     158   \n",
              "2      2     187     188     188     187     187     186     187     188   \n",
              "3      2     211     211     212     212     211     210     211     210   \n",
              "4     13     164     167     170     172     176     179     180     184   \n",
              "5     16     161     168     172     173     178     184     189     193   \n",
              "6      8     134     134     135     135     136     137     137     138   \n",
              "7     22     114      42      74      99     104     109     117     127   \n",
              "8      3     169     174     176     180     183     185     187     188   \n",
              "9      3     189     189     189     190     190     191     190     190   \n",
              "\n",
              "   pixel9  ...  pixel775  pixel776  pixel777  pixel778  pixel779  pixel780  \\\n",
              "0     153  ...       207       207       207       207       206       206   \n",
              "1     158  ...        69       149       128        87        94       163   \n",
              "2     187  ...       202       201       200       199       198       199   \n",
              "3     210  ...       235       234       233       231       230       226   \n",
              "4     185  ...        92       105       105       108       133       163   \n",
              "5     196  ...        76        74        68        62        53        55   \n",
              "6     138  ...       109       102        91        65       138       189   \n",
              "7     142  ...       214       218       220       223       223       225   \n",
              "8     190  ...       119       118       123       120       118       114   \n",
              "9     190  ...        13        53       200       204       201       201   \n",
              "\n",
              "   pixel781  pixel782  pixel783  pixel784  \n",
              "0       206       204       203       202  \n",
              "1       175       103       135       149  \n",
              "2       198       195       194       195  \n",
              "3       225       222       229       163  \n",
              "4       157       163       164       179  \n",
              "5        48       238       255       255  \n",
              "6       179       181       181       179  \n",
              "7       227       227       228       228  \n",
              "8        94        74        61        57  \n",
              "9       193       175       178       156  \n",
              "\n",
              "[10 rows x 785 columns]"
            ]
          },
          "execution_count": 8,
          "metadata": {},
          "output_type": "execute_result"
        }
      ],
      "source": [
        "train_dataset.head(10)"
      ]
    },
    {
      "cell_type": "markdown",
      "id": "fitted-topic",
      "metadata": {
        "id": "fitted-topic"
      },
      "source": [
        "We need to separate the pixel values and the label from each other in order for us to load and access it separately. A function was constructed to split the training and testing dataset to separate the labels from the pixel values."
      ]
    },
    {
      "cell_type": "code",
      "execution_count": 7,
      "id": "authorized-conjunction",
      "metadata": {
        "id": "authorized-conjunction"
      },
      "outputs": [],
      "source": [
        "def dataframe_to_array(dataframe):\n",
        "    # Make a copy of the original dataframe\n",
        "    dataframe1 = dataframe.copy(deep=True)\n",
        "    # Extract input & outupts as numpy arrays\n",
        "    inputs_array = dataframe1.iloc[:, 1:].to_numpy()\n",
        "    targets_array = dataframe1['label'].to_numpy()\n",
        "    return inputs_array, targets_array"
      ]
    },
    {
      "cell_type": "code",
      "execution_count": 23,
      "id": "impressed-kingdom",
      "metadata": {
        "id": "impressed-kingdom",
        "outputId": "cdbeae5c-d685-44d3-9194-d9ad5416b1c2",
        "colab": {
          "base_uri": "https://localhost:8080/"
        }
      },
      "outputs": [
        {
          "output_type": "stream",
          "name": "stdout",
          "text": [
            "(27455, 784) (27455,)\n",
            "(7172, 784) (7172,)\n"
          ]
        }
      ],
      "source": [
        "X_train, y_train = dataframe_to_array(train_dataset)\n",
        "X_test, y_test = dataframe_to_array(test_dataset)\n",
        "\n",
        "print(X_train.shape, y_train.shape)\n",
        "print(X_test.shape, y_test.shape)"
      ]
    },
    {
      "cell_type": "markdown",
      "id": "stupid-onion",
      "metadata": {
        "id": "stupid-onion"
      },
      "source": [
        "Let’s look at the first row of the training dataset. We also need to reshape the array to (28x28) since the initial shape is just a row array."
      ]
    },
    {
      "cell_type": "code",
      "execution_count": 9,
      "id": "green-helicopter",
      "metadata": {
        "id": "green-helicopter",
        "outputId": "6221341d-fdca-4457-bb23-30240b6f66f5",
        "colab": {
          "base_uri": "https://localhost:8080/",
          "height": 447
        }
      },
      "outputs": [
        {
          "output_type": "stream",
          "name": "stdout",
          "text": [
            "Letter:  D\n"
          ]
        },
        {
          "output_type": "display_data",
          "data": {
            "text/plain": [
              "<Figure size 640x480 with 1 Axes>"
            ],
            "image/png": "[encoded data removed]"
          },
          "metadata": {}
        }
      ],
      "source": [
        "pic1 = np.reshape(X_train[0], (28, 28))\n",
        "plt.imshow(pic1, cmap = \"gray\")\n",
        "print(\"Letter: \", letters[y_train[0].item()])"
      ]
    },
    {
      "cell_type": "markdown",
      "id": "surface-purchase",
      "metadata": {
        "id": "surface-purchase"
      },
      "source": [
        "As expected, the letter in the hand image is D. However, it is evident that the image is not clear due to its small resolution. This may affect the accuracy of our model and the implementation of the model in a much larger scale.\n",
        "\n",
        "The training and testing input arrays are converted to continuous float values since it allows our model for a more precise learning as compared to discrete values. On the other hand, the training and testing labels are converted to long integers since the output of the model are indices to be used in accessing probability values."
      ]
    },
    {
      "cell_type": "markdown",
      "id": "terminal-chase",
      "metadata": {
        "id": "terminal-chase"
      },
      "source": [
        "## Q1. Implement `SimpleLogisticRegression` class. (25 points)\n",
        "\n",
        "You are free to search on the internet about implementing a Logistic Regression model using `sklearn.linear_model.LogisticRegression`."
      ]
    },
    {
      "cell_type": "code",
      "execution_count": 77,
      "id": "forced-separate",
      "metadata": {
        "id": "forced-separate",
        "colab": {
          "base_uri": "https://localhost:8080/"
        },
        "outputId": "0979bedd-48cf-48ed-d13b-1d144654f7e2"
      },
      "outputs": [
        {
          "output_type": "stream",
          "name": "stderr",
          "text": [
            "/usr/local/lib/python3.10/dist-packages/sklearn/linear_model/_logistic.py:458: ConvergenceWarning: lbfgs failed to converge (status=1):\n",
            "STOP: TOTAL NO. of ITERATIONS REACHED LIMIT.\n",
            "\n",
            "Increase the number of iterations (max_iter) or scale the data as shown in:\n",
            "    https://scikit-learn.org/stable/modules/preprocessing.html\n",
            "Please also refer to the documentation for alternative solver options:\n",
            "    https://scikit-learn.org/stable/modules/linear_model.html#logistic-regression\n",
            "  n_iter_i = _check_optimize_result(\n"
          ]
        }
      ],
      "source": [
        "from sklearn.linear_model import LogisticRegression\n",
        "\n",
        "############# Your code here ############\n",
        "\n",
        "#Scale features\n",
        "X_train_norm = X_train/255.\n",
        "X_test_norm = X_test/255.\n",
        "\n",
        "# Create and train the Logistic Regression model\n",
        "logistic_regression = LogisticRegression(max_iter=1000)\n",
        "logistic_regression.fit(X_train_norm, y_train)\n",
        "\n",
        "# Predict on the test set\n",
        "y_pred = logistic_regression.predict(X_test_norm)\n",
        "\n",
        "#########################################"
      ]
    },
    {
      "cell_type": "code",
      "source": [
        "# Evaluate the model\n",
        "from sklearn.metrics import classification_report\n",
        "print(classification_report(y_test, y_pred))"
      ],
      "metadata": {
        "colab": {
          "base_uri": "https://localhost:8080/"
        },
        "id": "-tJsLK3RqSUF",
        "outputId": "68197a57-2022-402a-d7c9-f9db4df70375"
      },
      "id": "-tJsLK3RqSUF",
      "execution_count": 78,
      "outputs": [
        {
          "output_type": "stream",
          "name": "stdout",
          "text": [
            "              precision    recall  f1-score   support\n",
            "\n",
            "           0       0.86      1.00      0.92       331\n",
            "           1       1.00      0.91      0.95       432\n",
            "           2       0.86      0.93      0.89       310\n",
            "           3       0.90      0.86      0.88       245\n",
            "           4       0.88      0.89      0.88       498\n",
            "           5       0.72      0.91      0.80       247\n",
            "           6       0.82      0.73      0.78       348\n",
            "           7       0.81      0.70      0.75       436\n",
            "           8       0.55      0.59      0.57       288\n",
            "          10       0.68      0.42      0.52       331\n",
            "          11       0.65      0.89      0.75       209\n",
            "          12       0.71      0.62      0.66       394\n",
            "          13       0.68      0.57      0.62       291\n",
            "          14       0.99      0.62      0.77       246\n",
            "          15       0.93      0.94      0.93       347\n",
            "          16       0.61      0.74      0.67       164\n",
            "          17       0.16      0.43      0.24       144\n",
            "          18       0.33      0.43      0.38       246\n",
            "          19       0.36      0.37      0.37       248\n",
            "          20       0.43      0.46      0.44       266\n",
            "          21       0.88      0.53      0.67       346\n",
            "          22       0.44      0.62      0.51       206\n",
            "          23       0.57      0.46      0.51       267\n",
            "          24       0.70      0.57      0.63       332\n",
            "\n",
            "    accuracy                           0.69      7172\n",
            "   macro avg       0.69      0.68      0.67      7172\n",
            "weighted avg       0.73      0.69      0.70      7172\n",
            "\n"
          ]
        }
      ]
    },
    {
      "cell_type": "markdown",
      "id": "raised-destruction",
      "metadata": {
        "id": "raised-destruction"
      },
      "source": [
        "## Q2. Multi-label classification metrics. (10 points)\n",
        "\n",
        "Search on the web and find **two** best metrics for multi-label classification. Write about how it works and why we use them. Then, implement it using `sklearn.metrics`"
      ]
    },
    {
      "cell_type": "markdown",
      "source": [
        "#1. Hamming Loss\n",
        "Measures the fraction of labels incorrectly predicted."
      ],
      "metadata": {
        "id": "KygJczsOmsJh"
      },
      "id": "KygJczsOmsJh"
    },
    {
      "cell_type": "code",
      "source": [
        "from sklearn.metrics import hamming_loss\n",
        "\n",
        "hamming_loss_value = hamming_loss(y_test, y_pred)\n",
        "print(f\"Hamming Loss: {hamming_loss_value:.4f}\")\n"
      ],
      "metadata": {
        "colab": {
          "base_uri": "https://localhost:8080/"
        },
        "id": "XTZiCxLujyut",
        "outputId": "148b5d45-4cdd-4b96-e79f-b96d527997cf"
      },
      "id": "XTZiCxLujyut",
      "execution_count": 79,
      "outputs": [
        {
          "output_type": "stream",
          "name": "stdout",
          "text": [
            "Hamming Loss: 0.3076\n"
          ]
        }
      ]
    },
    {
      "cell_type": "markdown",
      "source": [
        "#2. Precision, Recall, F1-score (Micro, Macro, Weighted)\n",
        "\n",
        "**Precision** measures the proportion of correctly predicted positive instances (true positives) out of all instances predicted as positive (true positives + false positives).\n",
        "\n",
        "\n",
        "**Recall** measures the proportion of correctly predicted positive instances (true positives) out of all actual positive instances (true positives + false negatives).\n",
        "\n",
        "**F1-score** is the harmonic mean of precision and recall. It balances both precision and recall into a single metric.\n"
      ],
      "metadata": {
        "id": "HNuK9oirmvHX"
      },
      "id": "HNuK9oirmvHX"
    },
    {
      "cell_type": "code",
      "source": [
        "from sklearn.metrics import precision_score, recall_score, f1_score\n",
        "\n",
        "'''\n",
        "Micro\n",
        "Calculate metrics globally by counting the total true positives, false negatives and false positives.\n",
        "'''\n",
        "micro_precision = precision_score(y_test, y_pred, average='micro')\n",
        "micro_recall = recall_score(y_test, y_pred, average='micro')\n",
        "micro_f1 = f1_score(y_test, y_pred, average='micro')\n",
        "\n",
        "'''\n",
        "Macro\n",
        "Calculate metrics for each label, and find their unweighted mean. This does not take label imbalance into account.\n",
        "'''\n",
        "macro_precision = precision_score(y_test, y_pred, average='macro')\n",
        "macro_recall = recall_score(y_test, y_pred, average='macro')\n",
        "macro_f1 = f1_score(y_test, y_pred, average='macro')\n",
        "\n",
        "'''\n",
        "Weighted\n",
        "Calculate metrics for each label, and find their average weighted by support (the number of true instances for each label)\n",
        "This alters ‘macro’ to account for label imbalance; it can result in an F-score that is not between precision and recall.\n",
        "'''\n",
        "weighted_precision = precision_score(y_test, y_pred, average='weighted')\n",
        "weighted_recall = recall_score(y_test, y_pred, average='weighted')\n",
        "weighted_f1 = f1_score(y_test, y_pred, average='weighted')\n",
        "\n",
        "print(f\"Micro Precision: {micro_precision:.4f}, Recall: {micro_recall:.4f}, F1-score: {micro_f1:.4f}\")\n",
        "print(f\"Macro Precision: {macro_precision:.4f}, Recall: {macro_recall:.4f}, F1-score: {macro_f1:.4f}\")\n",
        "print(f\"Weighted Precision: {weighted_precision:.4f}, Recall: {weighted_recall:.4f}, F1-score: {weighted_f1:.4f}\")\n"
      ],
      "metadata": {
        "colab": {
          "base_uri": "https://localhost:8080/"
        },
        "id": "rdLejvdyj64E",
        "outputId": "a45cc4b9-3256-4bd0-e8b5-0576ee6b7b74"
      },
      "id": "rdLejvdyj64E",
      "execution_count": 83,
      "outputs": [
        {
          "output_type": "stream",
          "name": "stdout",
          "text": [
            "Micro Precision: 0.6924, Recall: 0.6924, F1-score: 0.6924\n",
            "Macro Precision: 0.6890, Recall: 0.6756, F1-score: 0.6710\n",
            "Weighted Precision: 0.7266, Recall: 0.6924, F1-score: 0.6999\n"
          ]
        }
      ]
    },
    {
      "cell_type": "markdown",
      "source": [
        "#3. Accuracy\n",
        "\n",
        "Accuracy measures the proportion of correctly predicted labels (both true positives and true negatives) over the total number of labels."
      ],
      "metadata": {
        "id": "5V98_1v0vfjo"
      },
      "id": "5V98_1v0vfjo"
    },
    {
      "cell_type": "code",
      "source": [
        "from sklearn.metrics import accuracy_score\n",
        "accuracy = accuracy_score(y_test, y_pred)\n",
        "print(f\"Accuracy: {accuracy:.4f}\")"
      ],
      "metadata": {
        "colab": {
          "base_uri": "https://localhost:8080/"
        },
        "id": "sK_tiFe8vfAy",
        "outputId": "47146484-7477-4baa-e10c-911b989633b8"
      },
      "id": "sK_tiFe8vfAy",
      "execution_count": 84,
      "outputs": [
        {
          "output_type": "stream",
          "name": "stdout",
          "text": [
            "Accuracy: 0.6924\n"
          ]
        }
      ]
    },
    {
      "cell_type": "markdown",
      "id": "unlimited-costa",
      "metadata": {
        "id": "unlimited-costa"
      },
      "source": [
        "# 3. Submission\n",
        "\n",
        "Please read the notes here carefully:\n",
        "\n",
        "1. The more beautiful and insightfull your plots and diagrams are, the more points you get. So please take your time and concentration to prepare a good report with nice diagrams.\n",
        "\n",
        "2. The file you upload must be named as `[Student ID]-[Your name].zip` and it must contain **only 1 file**:\n",
        "\n",
        "  - `Linear_and_Logistic_Regression.ipynb`\n",
        "  \n",
        "4. **Important Note**: The outputs of the code blocks must be remained in your notebook, otherwise, you definitly lose all the points of that"
      ]
    }
  ],
  "metadata": {
    "kernelspec": {
      "display_name": "Python 3",
      "language": "python",
      "name": "python3"
    },
    "language_info": {
      "codemirror_mode": {
        "name": "ipython",
        "version": 3
      },
      "file_extension": ".py",
      "mimetype": "text/x-python",
      "name": "python",
      "nbconvert_exporter": "python",
      "pygments_lexer": "ipython3",
      "version": "3.9.5"
    },
    "colab": {
      "provenance": [],
      "include_colab_link": true
    }
  },
  "nbformat": 4,
  "nbformat_minor": 5
}