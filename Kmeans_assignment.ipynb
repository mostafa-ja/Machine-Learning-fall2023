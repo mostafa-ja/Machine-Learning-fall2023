{
  "cells": [
    {
      "cell_type": "markdown",
      "metadata": {
        "id": "view-in-github",
        "colab_type": "text"
      },
      "source": [
        "<a href=\"https://colab.research.google.com/github/mostafa-ja/Machine-Learning-fall2023/blob/main/Kmeans_assignment.ipynb\" target=\"_parent\"><img src=\"https://colab.research.google.com/assets/colab-badge.svg\" alt=\"Open In Colab\"/></a>"
      ]
    },
    {
      "cell_type": "code",
      "source": [
        "import gdown\n",
        "\n",
        "file_id = '1qaJVI4SARqfrpW3TCplkOit3PhVdERXV'\n",
        "\n",
        "download_link = f'https://drive.google.com/uc?id={file_id}'\n",
        "output = 'k-means.zip'\n",
        "gdown.download(download_link, output, quiet=False)"
      ],
      "metadata": {
        "colab": {
          "base_uri": "https://localhost:8080/",
          "height": 105
        },
        "id": "iqZ8wByVoGFj",
        "outputId": "20a2ba0a-397f-4f05-cf6a-306e27101598"
      },
      "execution_count": 2,
      "outputs": [
        {
          "output_type": "stream",
          "name": "stderr",
          "text": [
            "Downloading...\n",
            "From: https://drive.google.com/uc?id=1qaJVI4SARqfrpW3TCplkOit3PhVdERXV\n",
            "To: /content/k-means.zip\n",
            "100%|██████████| 155k/155k [00:00<00:00, 7.70MB/s]\n"
          ]
        },
        {
          "output_type": "execute_result",
          "data": {
            "text/plain": [
              "'k-means.zip'"
            ],
            "application/vnd.google.colaboratory.intrinsic+json": {
              "type": "string"
            }
          },
          "metadata": {},
          "execution_count": 2
        }
      ]
    },
    {
      "cell_type": "code",
      "source": [
        "!unzip '/content/k-means.zip' -d \"/content/\""
      ],
      "metadata": {
        "colab": {
          "base_uri": "https://localhost:8080/"
        },
        "id": "ZOxPiBzZoL8P",
        "outputId": "6b1046e4-8262-4656-af59-a5a1d9e2b2c4"
      },
      "execution_count": 3,
      "outputs": [
        {
          "output_type": "stream",
          "name": "stdout",
          "text": [
            "Archive:  /content/k-means.zip\n",
            "   creating: /content/k-means/\n",
            "  inflating: /content/k-means/.DS_Store  \n",
            "  inflating: /content/__MACOSX/k-means/._.DS_Store  \n",
            "   creating: /content/k-means/content/\n",
            "  inflating: /content/k-means/Kmeans-assignment.ipynb  \n",
            "  inflating: /content/__MACOSX/k-means/._Kmeans-assignment.ipynb  \n",
            "  inflating: /content/k-means/content/penguins.jpg  \n",
            "  inflating: /content/__MACOSX/k-means/content/._penguins.jpg  \n",
            "  inflating: /content/k-means/content/mallcustomers.csv  \n",
            "  inflating: /content/__MACOSX/k-means/content/._mallcustomers.csv  \n"
          ]
        }
      ]
    },
    {
      "cell_type": "code",
      "source": [
        "!cp '/content/k-means/content/mallcustomers.csv' '/content/'\n",
        "!cp '/content/k-means/content/penguins.jpg' '/content/'"
      ],
      "metadata": {
        "id": "IdUneWoPowUL"
      },
      "execution_count": 5,
      "outputs": []
    },
    {
      "cell_type": "markdown",
      "metadata": {
        "id": "bGJ5p0XKd1U3"
      },
      "source": [
        "# K-means Clustering\n",
        "## Answer These Questions:\n",
        "    1. Describe two techniques to select the right number of clusters when using K-Means.\n",
        "    2. Can you name two clustering algorithms that can scale to large datasets? And two that look for regions of high density?\n",
        "\n",
        "1.\n",
        "\n",
        "One method is the “elbow method” where we plot the inertia of the final model as a function\n",
        "of the number of clusters We then look for a “kink” or an “elbow” in that curve where\n",
        "the addition of another cluster does not cause the inertia to decrease as fast as it had been\n",
        "previously. This is a heuristic technique that one can use to decide on the number of clusters.\n",
        "\n",
        "Another method is to use the silhouette scores for each of several potential clusterings. By\n",
        "plotting the silhouette score as a function of the number of clusters k the cluster number\n",
        "that gives the largest silhouette score is a good number of clusters to use.\n",
        "\n",
        "---------------\n",
        "2.\n",
        "\n",
        "Most clustering algorithms have an incremental “batch” version where one can feed sequentially feed the algorithm batches of data (and not the full dataset) to allow it to scale to much\n",
        "larger datasets. K-means has an implementation of this in sklearn called MiniBatchKMeans.\n",
        "\n",
        "Clustering algorithms that look for regions of high density include DBSCAN and Gaussian\n",
        "mixture models.\n",
        "\n",
        "\n"
      ]
    },
    {
      "cell_type": "markdown",
      "metadata": {
        "id": "RamLtCHMoFAh"
      },
      "source": [
        "## Hands-on Exercise\n",
        "\n",
        "In this this exercise, you will implement the K-means algorithm and use it for image compression.\n",
        "\n",
        "* You will start with a sample dataset that will help you gain an intuition of how the K-means algorithm works.\n",
        "* After that, you wil use the K-means algorithm for image compression by reducing the number of colors that occur in an image to only those that are most common in that image.\n",
        "\n",
        "\n"
      ]
    },
    {
      "cell_type": "code",
      "execution_count": null,
      "metadata": {
        "id": "WyhCogzFd1U8"
      },
      "outputs": [],
      "source": [
        "import numpy as np\n",
        "import pandas as pd\n",
        "import matplotlib.pyplot as plt\n",
        "from sklearn.datasets import make_blobs\n",
        "import random\n",
        "import seaborn as sns\n",
        "from mpl_toolkits.mplot3d import Axes3D\n",
        "\n",
        "%matplotlib inline"
      ]
    },
    {
      "cell_type": "markdown",
      "metadata": {
        "id": "7TtlHtG8d1U-"
      },
      "source": [
        "<a name=\"1\"></a>\n",
        "## 1 - Implementing K-means\n",
        "\n",
        "The K-means algorithm is a method to automatically cluster similar\n",
        "data points together.\n",
        "\n",
        "* Concretely, you are given a training set $\\{x^{(1)}, ..., x^{(m)}\\}$, and you want\n",
        "to group the data into a few cohesive “clusters”.\n",
        "\n",
        "\n",
        "* K-means is an iterative procedure that\n",
        "     * Starts by guessing the initial centroids, and then\n",
        "     * Refines this guess by\n",
        "         * Repeatedly assigning examples to their closest centroids, and then\n",
        "         * Recomputing the centroids based on the assignments.\n",
        "         \n",
        "\n",
        "* In pseudocode, the K-means algorithm is as follows:\n",
        "\n",
        "    ``` python\n",
        "    # Initialize centroids\n",
        "    # K is the number of clusters\n",
        "    centroids = kMeans_init_centroids(X, K)\n",
        "    \n",
        "    for iter in range(iterations):\n",
        "        # Cluster assignment step:\n",
        "        # Assign each data point to the closest centroid.\n",
        "        # idx[i] corresponds to the index of the centroid\n",
        "        # assigned to example i\n",
        "        idx = find_closest_centroids(X, centroids)\n",
        "\n",
        "        # Move centroid step:\n",
        "        # Compute means based on centroid assignments\n",
        "        centroids = compute_means(X, idx, K)\n",
        "    ```\n",
        "\n",
        "\n",
        "* The inner-loop of the algorithm repeatedly carries out two steps:\n",
        "    * (i) Assigning each training example $x^{(i)}$ to its closest centroid, and\n",
        "    * (ii) Recomputing the mean of each centroid using the points assigned to it.\n",
        "    \n",
        "    \n",
        "* The $K$-means algorithm will always converge to some final set of means for the centroids.\n",
        "\n",
        "* However, that the converged solution may not always be ideal and depends on the initial setting of the centroids.\n",
        "    * Therefore, in practice the K-means algorithm is usually run a few times with different random initializations.\n",
        "    * One way to choose between these different solutions from different random initializations is to choose the one with the lowest cost function value (distortion).\n",
        "\n",
        "You will implement the two phases of the K-means algorithm separately\n",
        "in the next sections.\n",
        "* You will start by completing `find_closest_centroid` and then proceed to complete `compute_centroids`."
      ]
    },
    {
      "cell_type": "markdown",
      "metadata": {
        "id": "VCYWK1Jpd1U_"
      },
      "source": [
        "<a name=\"1.1\"></a>\n",
        "### 1.1 Finding closest centroids\n",
        "\n",
        "In the “cluster assignment” phase of the K-means algorithm, the\n",
        "algorithm assigns every training example $x^{(i)}$ to its closest\n",
        "centroid, given the current positions of centroids.\n",
        "\n",
        "<a name=\"ex01\"></a>\n",
        "### Exercise 1\n",
        "\n",
        "Your task is to complete the code in `find_closest_centroids`.\n",
        "* This function takes the data matrix `X` and the locations of all\n",
        "centroids inside `centroids`\n",
        "* It should output a one-dimensional array `idx` (which has the same number of elements as `X`) that holds the index  of the closest centroid (a value in $\\{1,...,K\\}$, where $K$ is total number of centroids) to every training example .\n",
        "* Specifically, for every example $x^{(i)}$ we set\n",
        "$$c^{(i)} := j \\quad \\mathrm{that \\; minimizes} \\quad ||x^{(i)} - \\mu_j||^2,$$\n",
        "where\n",
        " * $c^{(i)}$ is the index of the centroid that is closest to $x^{(i)}$ (corresponds to `idx[i]` in the starter code), and\n",
        " * $\\mu_j$ is the position (value) of the $j$’th centroid. (stored in `centroids` in the starter code)\n"
      ]
    },
    {
      "cell_type": "code",
      "execution_count": null,
      "metadata": {
        "id": "eowbmzawd1VA"
      },
      "outputs": [],
      "source": [
        "def find_closest_centroids(X, centroids):\n",
        "    \"\"\"\n",
        "    Find the closest centroid for each sample\n",
        "\n",
        "    Args:\n",
        "        X (ndarray): (m, n) Input values\n",
        "        centroids (ndarray): k centroids\n",
        "\n",
        "    Returns:\n",
        "        idx (array_like): (m,) closest centroids\n",
        "\n",
        "    \"\"\"\n",
        "\n",
        "    # Complete this function\n",
        "\n",
        "    return idx"
      ]
    },
    {
      "cell_type": "code",
      "execution_count": null,
      "metadata": {
        "id": "vgkIcdErd1VE"
      },
      "outputs": [],
      "source": [
        "# Load an example dataset that we will be using\n",
        "X, y_true = make_blobs(n_samples=300, centers=random.randint(3, 5),\n",
        "                       cluster_std=0.70, random_state=0)\n",
        "plt.scatter(X[:, 0], X[:, 1], s=50);"
      ]
    },
    {
      "cell_type": "code",
      "execution_count": null,
      "metadata": {
        "id": "m7Fh2Pe2d1VH"
      },
      "outputs": [],
      "source": [
        "# Select an initial set of centroids\n",
        "# e.g. np.array([[3,3], [6,2], [8,5]])\n",
        "initial_centroids = None\n",
        "\n",
        "# Find closest centroids using initial_centroids\n",
        "idx = find_closest_centroids(X, initial_centroids)"
      ]
    },
    {
      "cell_type": "markdown",
      "metadata": {
        "id": "kPDenDaWd1VI"
      },
      "source": [
        "<a name=\"1.2\"></a>\n",
        "### 1.2 Computing centroid means\n",
        "\n",
        "Given assignments of every point to a centroid, the second phase of the\n",
        "algorithm recomputes, for each centroid, the mean of the points that\n",
        "were assigned to it.\n",
        "\n",
        "\n",
        "<a name=\"ex02\"></a>\n",
        "### Exercise 2\n",
        "\n",
        "Please complete the `compute_centroids` below to recompute the value for each centroid\n",
        "\n",
        "* Specifically, for every centroid $\\mu_k$ we set\n",
        "$$\\mu_k = \\frac{1}{|C_k|} \\sum_{i \\in C_k} x^{(i)}$$\n",
        "\n",
        "    where\n",
        "    * $C_k$ is the set of examples that are assigned to centroid $k$\n",
        "    * $|C_k|$ is the number of examples in the set $C_k$\n",
        "\n",
        "\n",
        "* Concretely, if two examples say $x^{(3)}$ and $x^{(5)}$ are assigned to centroid $k=2$,\n",
        "then you should update $\\mu_2 = \\frac{1}{2}(x^{(3)}+x^{(5)})$."
      ]
    },
    {
      "cell_type": "code",
      "execution_count": null,
      "metadata": {
        "id": "AYmpWBgyd1VJ"
      },
      "outputs": [],
      "source": [
        "def compute_centroids(X, idx, K):\n",
        "    \"\"\"\n",
        "    Returns the new centroids by computing the means of the\n",
        "    data points assigned to each centroid.\n",
        "\n",
        "    Args:\n",
        "        X (ndarray):   (m, n) Data points\n",
        "        idx (ndarray): (m,) Array containing index of closest centroid for each\n",
        "                       example in X. Concretely, idx[i] contains the index of\n",
        "                       the centroid closest to example i\n",
        "        K (int):       number of centroids\n",
        "\n",
        "    Returns:\n",
        "        centroids (ndarray): (K, n) New centroids computed\n",
        "    \"\"\"\n",
        "\n",
        "    # Complete this function\n",
        "\n",
        "    return centroids"
      ]
    },
    {
      "cell_type": "code",
      "execution_count": null,
      "metadata": {
        "id": "sTfXjPFFd1VK"
      },
      "outputs": [],
      "source": [
        "K = None # Number of clusters\n",
        "centroids = compute_centroids(X, idx, K)\n",
        "print(\"Centroids:\\n\", centroids)"
      ]
    },
    {
      "cell_type": "markdown",
      "metadata": {
        "id": "F5v5cKI_d1VL"
      },
      "source": [
        "<a name=\"2\"></a>\n",
        "## 2 - K-means on a sample dataset\n",
        "\n",
        "After you have completed the two functions (`find_closest_centroids`\n",
        "and `compute_centroids`) above, the next step is to complete the\n",
        "run_KMeans function below that will return the new centroids computed.\n"
      ]
    },
    {
      "cell_type": "code",
      "execution_count": null,
      "metadata": {
        "id": "5OJIUSpTd1VL"
      },
      "outputs": [],
      "source": [
        "def run_kMeans(X, initial_centroids, max_iters=10):\n",
        "    \"\"\"\n",
        "    Runs the K-Means algorithm on data matrix X, where each row of X\n",
        "    is a single example.\n",
        "\n",
        "    Args:\n",
        "        X (ndarray):             (m, n) Data points\n",
        "        initial_centroids (int): number of centroids\n",
        "        max_iters (int):         number of iterations\n",
        "\n",
        "    Returns:\n",
        "        centroids (ndarray):     (K, n) New centroids computed\n",
        "\n",
        "    \"\"\"\n",
        "\n",
        "    # Complete this function using the last two functions you've written\n",
        "\n",
        "    return centroids, idx"
      ]
    },
    {
      "cell_type": "code",
      "execution_count": null,
      "metadata": {
        "id": "_eWMeiidd1VN"
      },
      "outputs": [],
      "source": [
        "max_iters = 10 # Number of iterations\n",
        "centroids, idx = run_kMeans(X, initial_centroids, max_iters)"
      ]
    },
    {
      "cell_type": "markdown",
      "metadata": {
        "id": "OYPmYanxd1VN"
      },
      "source": [
        "<a name=\"3\"></a>\n",
        "## 3 - Random initialization\n",
        "\n",
        "A good strategy for initializing the centroids is to select random examples from the\n",
        "training set.\n",
        "\n",
        "Complete the function below to do a random initialization."
      ]
    },
    {
      "cell_type": "code",
      "execution_count": null,
      "metadata": {
        "id": "jQ4VmV9Kd1VN"
      },
      "outputs": [],
      "source": [
        "def kMeans_init_centroids(X, K):\n",
        "    \"\"\"\n",
        "    This function initializes K centroids that are to be\n",
        "    used in K-Means on the dataset X\n",
        "\n",
        "    Args:\n",
        "        X (ndarray): Data points\n",
        "        K (int):     number of centroids\n",
        "\n",
        "    Returns:\n",
        "        centroids (ndarray): Initialized centroids\n",
        "    \"\"\"\n",
        "\n",
        "    # Complete this function\n",
        "\n",
        "    return centroids"
      ]
    },
    {
      "cell_type": "markdown",
      "metadata": {
        "id": "obsSeH4ad1VO"
      },
      "source": [
        "<a name=\"4\"></a>\n",
        "## 4 - Image compression with K-means\n",
        "\n",
        "In this exercise, you will apply K-means to image compression.\n",
        "\n",
        "* In a straightforward 24-bit color representation of an image, each pixel is represented as three 8-bit unsigned integers (ranging from 0 to 255) that specify the red, green and blue intensity values. This encoding is often refered to as the RGB encoding.\n",
        "* Our image contains thousands of colors, and in this part of the exercise, you will reduce the number of\n",
        "colors to different number of colors.\n",
        "* By making this reduction, it is possible to represent (compress) the photo in an efficient way.\n",
        "* Specifically, you only need to store the RGB values of the selected colors, and for each pixel in the image you now need to only store the index of the color at that location.\n",
        "\n",
        "In this part, you will use the K-means algorithm to select the K colors that will be used to represent the compressed image.\n",
        "* Concretely, you will treat every pixel in the original image as a data example and use the K-means algorithm to find the 16 colors that best group (cluster) the pixels in the 3- dimensional RGB space.\n",
        "* Once you have computed the cluster centroids on the image, you will then use the K colors to replace the pixels in the original image.\n",
        "\n",
        "<a name=\"4.1\"></a>\n",
        "### 4.1 Dataset\n",
        "\n",
        "**Load image**\n",
        "\n",
        "First, you will get the image of some lovely penguins and then use `matplotlib` to read in the original image, as shown below."
      ]
    },
    {
      "cell_type": "code",
      "execution_count": null,
      "metadata": {
        "id": "xMZUykwfd1VO"
      },
      "outputs": [],
      "source": [
        "original_img = plt.imread(\"content/penguins.jpg\")"
      ]
    },
    {
      "cell_type": "markdown",
      "metadata": {
        "id": "F0-G1Ys1oFAt"
      },
      "source": [
        "**Check the dimensions and Visualize image**\n",
        "\n",
        "You can get the shape of your image and visualize the image that was just loaded using the code below."
      ]
    },
    {
      "cell_type": "code",
      "execution_count": null,
      "metadata": {
        "id": "4OzQa8mboFAt"
      },
      "outputs": [],
      "source": [
        "print(\"Shape of original_img is:\", original_img.shape)\n",
        "plt.imshow(original_img)"
      ]
    },
    {
      "cell_type": "markdown",
      "metadata": {
        "id": "9ZlEd3kNd1VP"
      },
      "source": [
        "As you can see, this creates a three-dimensional matrix `original_img` where\n",
        "* the first two indices identify a pixel position, and\n",
        "* the third index represents red, green, or blue.\n",
        "\n",
        "For example, `original_img[50, 33, 2]` gives the blue intensity of the pixel at row 50 and column 33.\n",
        "\n",
        "#### Processing data\n",
        "\n",
        "To call the `run_kMeans`, you need to first transform the matrix `original_img` into a two-dimensional matrix.\n"
      ]
    },
    {
      "cell_type": "code",
      "execution_count": null,
      "metadata": {
        "id": "984cp6AEd1VP"
      },
      "outputs": [],
      "source": [
        "# Divide by 255 so that all values are in the range 0 - 1\n",
        "original_img = None\n",
        "\n",
        "# Reshape the image into an m x 3 matrix where m = number of pixels\n",
        "X_img = None"
      ]
    },
    {
      "cell_type": "markdown",
      "metadata": {
        "id": "R70Rtr4Jd1VQ"
      },
      "source": [
        "<a name=\"4.2\"></a>\n",
        "### 4.2 K-Means on image pixels\n",
        "\n",
        "Now, run the cell below to run K-Means on the pre-processed image."
      ]
    },
    {
      "cell_type": "code",
      "execution_count": null,
      "metadata": {
        "id": "Jz9SA-kkd1VQ"
      },
      "outputs": [],
      "source": [
        "# Run your K-Means algorithm on this data\n",
        "# You should try different values of K and max_iters here\n",
        "K = 32\n",
        "max_iters = 10\n",
        "\n",
        "# Using the function you have implemented above.\n",
        "initial_centroids = kMeans_init_centroids(X_img, K)\n",
        "\n",
        "# Run K-Means - this takes a couple of minutes\n",
        "centroids, idx = run_kMeans(X_img, initial_centroids, max_iters)"
      ]
    },
    {
      "cell_type": "markdown",
      "metadata": {
        "id": "k2_Jmnsad1VQ"
      },
      "source": [
        "<a name=\"4.3\"></a>\n",
        "### 4.3 Compress the image\n",
        "After finding the top $K$ colors to represent the image, you can now\n",
        "assign each pixel position to its closest centroid using the\n",
        "`find_closest_centroids` function.\n",
        "* This allows you to represent the original image using the centroid assignments of each pixel.\n",
        "* Notice that you have significantly reduced the number of bits that are required to describe the image."
      ]
    },
    {
      "cell_type": "code",
      "execution_count": null,
      "metadata": {
        "id": "qREF2mEOd1VR"
      },
      "outputs": [],
      "source": [
        "# Represent image in terms of indices\n",
        "X_recovered = centroids[idx, :]\n",
        "\n",
        "# Reshape recovered image into proper dimensions\n",
        "X_recovered = np.reshape(X_recovered, original_img.shape)"
      ]
    },
    {
      "cell_type": "code",
      "execution_count": null,
      "metadata": {
        "id": "WDl3LE6zd1VR"
      },
      "outputs": [],
      "source": [
        "# Display original image\n",
        "fig, ax = plt.subplots(1,2, figsize=(8,8))\n",
        "plt.axis('off')\n",
        "\n",
        "ax[0].imshow((original_img*255).astype(int))\n",
        "ax[0].set_title('Original')\n",
        "ax[0].set_axis_off()\n",
        "\n",
        "# Display compressed image\n",
        "ax[1].imshow((X_recovered*255).astype(int))\n",
        "ax[1].set_title('Compressed with %d colours'%K)\n",
        "ax[1].set_axis_off()"
      ]
    },
    {
      "cell_type": "markdown",
      "metadata": {
        "id": "9Wq4FUeSoFAx"
      },
      "source": [
        "<a name=\"4\"></a>\n",
        "## 5 - Grouping mall customers using K-Means\n",
        "\n",
        "In this exercise, you will apply K-means to group customers.\n",
        "\n",
        "* Mall Customer data is an interesting dataset that has hypothetical customer data. It puts you in the shoes of the owner of a supermarket. You have customer data, and on this basis of the data, you have to divide the customers into various groups.\n",
        "\n",
        "* The data includes the following features:\n",
        "\n",
        "    1. Customer ID\n",
        "\n",
        "    2. Customer Gender\n",
        "\n",
        "    3. Customer Age\n",
        "\n",
        "    4. Annual Income of the customer (in Thousand Dollars)\n",
        "\n",
        "    5. Spending score of the customer (based on customer behaviour and spending nature)\n",
        "\n",
        "<a name=\"4.1\"></a>\n",
        "### 5.1 Dataset\n",
        "\n",
        "**Load dataset**\n",
        "\n",
        "First, you need to read the customers' information from data sheet."
      ]
    },
    {
      "cell_type": "code",
      "execution_count": null,
      "metadata": {
        "id": "7f5MNpXfoFAx",
        "outputId": "3f13b1f2-a045-45d4-d232-cad9f02a2646"
      },
      "outputs": [
        {
          "data": {
            "text/html": [
              "<div>\n",
              "<style scoped>\n",
              "    .dataframe tbody tr th:only-of-type {\n",
              "        vertical-align: middle;\n",
              "    }\n",
              "\n",
              "    .dataframe tbody tr th {\n",
              "        vertical-align: top;\n",
              "    }\n",
              "\n",
              "    .dataframe thead th {\n",
              "        text-align: right;\n",
              "    }\n",
              "</style>\n",
              "<table border=\"1\" class=\"dataframe\">\n",
              "  <thead>\n",
              "    <tr style=\"text-align: right;\">\n",
              "      <th></th>\n",
              "      <th>CustomerID</th>\n",
              "      <th>Gender</th>\n",
              "      <th>Age</th>\n",
              "      <th>Annual_Income_(k$)</th>\n",
              "      <th>Spending_Score</th>\n",
              "    </tr>\n",
              "  </thead>\n",
              "  <tbody>\n",
              "    <tr>\n",
              "      <th>0</th>\n",
              "      <td>1</td>\n",
              "      <td>Male</td>\n",
              "      <td>19</td>\n",
              "      <td>15</td>\n",
              "      <td>39</td>\n",
              "    </tr>\n",
              "    <tr>\n",
              "      <th>1</th>\n",
              "      <td>2</td>\n",
              "      <td>Male</td>\n",
              "      <td>21</td>\n",
              "      <td>15</td>\n",
              "      <td>81</td>\n",
              "    </tr>\n",
              "    <tr>\n",
              "      <th>2</th>\n",
              "      <td>3</td>\n",
              "      <td>Female</td>\n",
              "      <td>20</td>\n",
              "      <td>16</td>\n",
              "      <td>6</td>\n",
              "    </tr>\n",
              "    <tr>\n",
              "      <th>3</th>\n",
              "      <td>4</td>\n",
              "      <td>Female</td>\n",
              "      <td>23</td>\n",
              "      <td>16</td>\n",
              "      <td>77</td>\n",
              "    </tr>\n",
              "    <tr>\n",
              "      <th>4</th>\n",
              "      <td>5</td>\n",
              "      <td>Female</td>\n",
              "      <td>31</td>\n",
              "      <td>17</td>\n",
              "      <td>40</td>\n",
              "    </tr>\n",
              "  </tbody>\n",
              "</table>\n",
              "</div>"
            ],
            "text/plain": [
              "   CustomerID  Gender  Age  Annual_Income_(k$)  Spending_Score\n",
              "0           1    Male   19                  15              39\n",
              "1           2    Male   21                  15              81\n",
              "2           3  Female   20                  16               6\n",
              "3           4  Female   23                  16              77\n",
              "4           5  Female   31                  17              40"
            ]
          },
          "execution_count": 25,
          "metadata": {},
          "output_type": "execute_result"
        }
      ],
      "source": [
        "#Reading the excel file\n",
        "data=pd.read_csv(\"content/mallcustomers.csv\")\n",
        "data.head()"
      ]
    },
    {
      "cell_type": "markdown",
      "metadata": {
        "id": "thTMofRCoFAy"
      },
      "source": [
        "### 5.2 Explore Data\n",
        "So let us have a look at the data:"
      ]
    },
    {
      "cell_type": "code",
      "execution_count": null,
      "metadata": {
        "id": "oRJF1OSIoFAz",
        "outputId": "82c8b951-5a86-4a4c-a3b8-4a04c543acbe"
      },
      "outputs": [
        {
          "name": "stderr",
          "output_type": "stream",
          "text": [
            "/var/folders/xp/bbdcwj4n0mn9hyz6glvcrms80000gn/T/ipykernel_37539/2266226181.py:2: FutureWarning: The default value of numeric_only in DataFrame.corr is deprecated. In a future version, it will default to False. Select only valid columns or specify the value of numeric_only to silence this warning.\n",
            "  data.corr()\n"
          ]
        },
        {
          "data": {
            "text/html": [
              "<div>\n",
              "<style scoped>\n",
              "    .dataframe tbody tr th:only-of-type {\n",
              "        vertical-align: middle;\n",
              "    }\n",
              "\n",
              "    .dataframe tbody tr th {\n",
              "        vertical-align: top;\n",
              "    }\n",
              "\n",
              "    .dataframe thead th {\n",
              "        text-align: right;\n",
              "    }\n",
              "</style>\n",
              "<table border=\"1\" class=\"dataframe\">\n",
              "  <thead>\n",
              "    <tr style=\"text-align: right;\">\n",
              "      <th></th>\n",
              "      <th>CustomerID</th>\n",
              "      <th>Age</th>\n",
              "      <th>Annual_Income_(k$)</th>\n",
              "      <th>Spending_Score</th>\n",
              "    </tr>\n",
              "  </thead>\n",
              "  <tbody>\n",
              "    <tr>\n",
              "      <th>CustomerID</th>\n",
              "      <td>1.000000</td>\n",
              "      <td>-0.026763</td>\n",
              "      <td>0.977548</td>\n",
              "      <td>0.013835</td>\n",
              "    </tr>\n",
              "    <tr>\n",
              "      <th>Age</th>\n",
              "      <td>-0.026763</td>\n",
              "      <td>1.000000</td>\n",
              "      <td>-0.012398</td>\n",
              "      <td>-0.327227</td>\n",
              "    </tr>\n",
              "    <tr>\n",
              "      <th>Annual_Income_(k$)</th>\n",
              "      <td>0.977548</td>\n",
              "      <td>-0.012398</td>\n",
              "      <td>1.000000</td>\n",
              "      <td>0.009903</td>\n",
              "    </tr>\n",
              "    <tr>\n",
              "      <th>Spending_Score</th>\n",
              "      <td>0.013835</td>\n",
              "      <td>-0.327227</td>\n",
              "      <td>0.009903</td>\n",
              "      <td>1.000000</td>\n",
              "    </tr>\n",
              "  </tbody>\n",
              "</table>\n",
              "</div>"
            ],
            "text/plain": [
              "                    CustomerID       Age  Annual_Income_(k$)  Spending_Score\n",
              "CustomerID            1.000000 -0.026763            0.977548        0.013835\n",
              "Age                  -0.026763  1.000000           -0.012398       -0.327227\n",
              "Annual_Income_(k$)    0.977548 -0.012398            1.000000        0.009903\n",
              "Spending_Score        0.013835 -0.327227            0.009903        1.000000"
            ]
          },
          "execution_count": 20,
          "metadata": {},
          "output_type": "execute_result"
        }
      ],
      "source": [
        "data.head()\n",
        "data.corr()"
      ]
    },
    {
      "cell_type": "markdown",
      "metadata": {
        "id": "p1v-vyr0oFAz"
      },
      "source": [
        "The data seems to be interesting. Let us look at the data distribution."
      ]
    },
    {
      "cell_type": "markdown",
      "metadata": {
        "id": "gYb6xtE0oFAz"
      },
      "source": [
        "### 5.3 Data Distribution\n",
        "#### Annual Income Distribution:"
      ]
    },
    {
      "cell_type": "code",
      "execution_count": null,
      "metadata": {
        "id": "69dBwnt-oFA0",
        "outputId": "44f49a72-5eae-4c22-fb65-0d54082461bc"
      },
      "outputs": [
        {
          "name": "stderr",
          "output_type": "stream",
          "text": [
            "/var/folders/xp/bbdcwj4n0mn9hyz6glvcrms80000gn/T/ipykernel_37539/1174230190.py:4: UserWarning: \n",
            "\n",
            "`distplot` is a deprecated function and will be removed in seaborn v0.14.0.\n",
            "\n",
            "Please adapt your code to use either `displot` (a figure-level function with\n",
            "similar flexibility) or `histplot` (an axes-level function for histograms).\n",
            "\n",
            "For a guide to updating your code to use the new functions, please see\n",
            "https://gist.github.com/mwaskom/de44147ed2974457ad6372750bbe5751\n",
            "\n",
            "  sns.distplot(data['Annual_Income_(k$)'])\n"
          ]
        },
        {
          "data": {
            "text/plain": [
              "Text(0, 0.5, 'Count')"
            ]
          },
          "execution_count": 21,
          "metadata": {},
          "output_type": "execute_result"
        },
        {
          "data": {
            "image/png": "[encoded data removed]",
            "text/plain": [
              "<Figure size 1000x600 with 1 Axes>"
            ]
          },
          "metadata": {},
          "output_type": "display_data"
        }
      ],
      "source": [
        "#Distribution of Annual Income\n",
        "plt.figure(figsize=(10, 6))\n",
        "sns.set(style = 'whitegrid')\n",
        "sns.distplot(data['Annual_Income_(k$)'])\n",
        "plt.title('Distribution of Annual Income (k$)', fontsize = 20)\n",
        "plt.xlabel('Range of Annual Income (k$)')\n",
        "plt.ylabel('Count')"
      ]
    },
    {
      "cell_type": "markdown",
      "metadata": {
        "id": "ZMzHNem0oFA0"
      },
      "source": [
        "#### Check the Distribution of Age and Spending Score as well"
      ]
    },
    {
      "cell_type": "code",
      "execution_count": null,
      "metadata": {
        "id": "u6ULnwHEoFA1"
      },
      "outputs": [],
      "source": [
        "# Age Distribution"
      ]
    },
    {
      "cell_type": "code",
      "execution_count": null,
      "metadata": {
        "id": "tuXLKPKPoFA1"
      },
      "outputs": [],
      "source": [
        "# Spending Score Distribution"
      ]
    },
    {
      "cell_type": "markdown",
      "metadata": {
        "id": "QRDYqcRFoFA1"
      },
      "source": [
        "### Analyze the data and check whether male customers are more than female customers\n",
        "You have to plot male customer count and female customer count in an appropriate way to show which one are the dominant one"
      ]
    },
    {
      "cell_type": "code",
      "execution_count": null,
      "metadata": {
        "id": "bPIZvH0FoFA1"
      },
      "outputs": [],
      "source": [
        "# plot customer count based on their gender here"
      ]
    },
    {
      "cell_type": "markdown",
      "metadata": {
        "id": "dFhFSYqpoFA3"
      },
      "source": [
        "### 4.4 Clustering based on 2 features\n",
        "First, we work with two features only, annual income and spending score."
      ]
    },
    {
      "cell_type": "code",
      "execution_count": null,
      "metadata": {
        "id": "deUxEQihoFA4",
        "outputId": "3669755d-5813-4c9a-d0f7-ea7541ce0b14"
      },
      "outputs": [
        {
          "data": {
            "text/html": [
              "<div>\n",
              "<style scoped>\n",
              "    .dataframe tbody tr th:only-of-type {\n",
              "        vertical-align: middle;\n",
              "    }\n",
              "\n",
              "    .dataframe tbody tr th {\n",
              "        vertical-align: top;\n",
              "    }\n",
              "\n",
              "    .dataframe thead th {\n",
              "        text-align: right;\n",
              "    }\n",
              "</style>\n",
              "<table border=\"1\" class=\"dataframe\">\n",
              "  <thead>\n",
              "    <tr style=\"text-align: right;\">\n",
              "      <th></th>\n",
              "      <th>Annual_Income_(k$)</th>\n",
              "      <th>Spending_Score</th>\n",
              "    </tr>\n",
              "  </thead>\n",
              "  <tbody>\n",
              "    <tr>\n",
              "      <th>0</th>\n",
              "      <td>15</td>\n",
              "      <td>39</td>\n",
              "    </tr>\n",
              "    <tr>\n",
              "      <th>1</th>\n",
              "      <td>15</td>\n",
              "      <td>81</td>\n",
              "    </tr>\n",
              "    <tr>\n",
              "      <th>2</th>\n",
              "      <td>16</td>\n",
              "      <td>6</td>\n",
              "    </tr>\n",
              "    <tr>\n",
              "      <th>3</th>\n",
              "      <td>16</td>\n",
              "      <td>77</td>\n",
              "    </tr>\n",
              "    <tr>\n",
              "      <th>4</th>\n",
              "      <td>17</td>\n",
              "      <td>40</td>\n",
              "    </tr>\n",
              "  </tbody>\n",
              "</table>\n",
              "</div>"
            ],
            "text/plain": [
              "   Annual_Income_(k$)  Spending_Score\n",
              "0                  15              39\n",
              "1                  15              81\n",
              "2                  16               6\n",
              "3                  16              77\n",
              "4                  17              40"
            ]
          },
          "execution_count": 22,
          "metadata": {},
          "output_type": "execute_result"
        }
      ],
      "source": [
        "#We take just the Annual Income and Spending score\n",
        "df1=data[[\"CustomerID\",\"Gender\",\"Age\",\"Annual_Income_(k$)\",\"Spending_Score\"]]\n",
        "X=df1[[\"Annual_Income_(k$)\",\"Spending_Score\"]]\n",
        "#The input data\n",
        "X.head()"
      ]
    },
    {
      "cell_type": "code",
      "execution_count": null,
      "metadata": {
        "id": "1G1Bz5nroFA4",
        "outputId": "656ff2ee-d555-441c-e1b1-fee18f843c3f"
      },
      "outputs": [
        {
          "data": {
            "image/png": "[encoded data removed]",
            "text/plain": [
              "<Figure size 1000x600 with 1 Axes>"
            ]
          },
          "metadata": {},
          "output_type": "display_data"
        }
      ],
      "source": [
        "#Scatterplot of the input data\n",
        "plt.figure(figsize=(10,6))\n",
        "sns.scatterplot(x = 'Annual_Income_(k$)',y = 'Spending_Score',  data = X  ,s = 60 )\n",
        "plt.xlabel('Annual Income (k$)')\n",
        "plt.ylabel('Spending Score (1-100)')\n",
        "plt.title('Spending Score (1-100) vs Annual Income (k$)')\n",
        "plt.show()"
      ]
    },
    {
      "cell_type": "markdown",
      "metadata": {
        "id": "Z_72O3bYoFA4"
      },
      "source": [
        "### Finding the best K for clustering\n",
        "In this section you have to run K-MEANS using different clusters (1-9) and then plot the inertia to find out the best K"
      ]
    },
    {
      "cell_type": "code",
      "execution_count": null,
      "metadata": {
        "id": "RKWfX0GLoFA5"
      },
      "outputs": [],
      "source": [
        "### run k-means using sklearn to find best K"
      ]
    },
    {
      "cell_type": "code",
      "execution_count": null,
      "metadata": {
        "id": "IF1-V358oFA5"
      },
      "outputs": [],
      "source": [
        "### Plot inertia to find elbow"
      ]
    },
    {
      "cell_type": "markdown",
      "metadata": {
        "id": "91xW7ewAoFA5"
      },
      "source": [
        "#### Now run K-MEANS with the found K to fit and predict labels\n",
        "* Add labels to dataframe and show it"
      ]
    },
    {
      "cell_type": "code",
      "execution_count": null,
      "metadata": {
        "id": "YmHVUMgJoFA6"
      },
      "outputs": [],
      "source": [
        "# run K-MEANS"
      ]
    }
  ],
  "metadata": {
    "colab": {
      "provenance": [],
      "include_colab_link": true
    },
    "kernelspec": {
      "display_name": "Python 3",
      "language": "python",
      "name": "python3"
    },
    "language_info": {
      "codemirror_mode": {
        "name": "ipython",
        "version": 3
      },
      "file_extension": ".py",
      "mimetype": "text/x-python",
      "name": "python",
      "nbconvert_exporter": "python",
      "pygments_lexer": "ipython3",
      "version": "3.11.0"
    }
  },
  "nbformat": 4,
  "nbformat_minor": 0
}